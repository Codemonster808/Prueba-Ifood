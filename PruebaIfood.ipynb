{
  "nbformat": 4,
  "nbformat_minor": 0,
  "metadata": {
    "colab": {
      "name": "PruebaIfood.ipynb",
      "provenance": [],
      "collapsed_sections": []
    },
    "kernelspec": {
      "display_name": "Python 3",
      "language": "python",
      "name": "python3"
    },
    "language_info": {
      "codemirror_mode": {
        "name": "ipython",
        "version": 3
      },
      "file_extension": ".py",
      "mimetype": "text/x-python",
      "name": "python",
      "nbconvert_exporter": "python",
      "pygments_lexer": "ipython3",
      "version": "3.8.2"
    }
  },
  "cells": [
    {
      "cell_type": "markdown",
      "metadata": {
        "id": "mmmXLNm8N87s"
      },
      "source": [
        "\n",
        "\n",
        "\n",
        "\n",
        "\n",
        "# Ifood test  \n",
        "\n"
      ]
    },
    {
      "cell_type": "markdown",
      "metadata": {
        "id": "JuQTPqr-eH9j"
      },
      "source": [
        "##- The objective\n",
        "\n",
        "\n"
      ]
    },
    {
      "cell_type": "markdown",
      "metadata": {
        "id": "mef_BnFueIJl"
      },
      "source": [
        "## The objective of the team is to build a predictive model that will produce the highest profit for the next direct marketing campaign, scheduled for the next month. The new campaign, sixth, aims at selling a new gadget to the Customer Database."
      ]
    },
    {
      "cell_type": "markdown",
      "source": [
        "## - The data "
      ],
      "metadata": {
        "id": "12OWFk9n5zKU"
      }
    },
    {
      "cell_type": "markdown",
      "source": [
        "##The data set contains socio-demographic and firmographic features about 2.240 customers who\n",
        "##were contacted. Additionally, it contains a flag for those customers who responded the campaign,by buying the product."
      ],
      "metadata": {
        "id": "bgBYobQ259fo"
      }
    },
    {
      "cell_type": "markdown",
      "source": [
        "## The challengue\n"
      ],
      "metadata": {
        "id": "1vQwRHaQnEW0"
      }
    },
    {
      "cell_type": "markdown",
      "source": [
        "## - 1 Explore the data . to provide the marketing team a better understanding of the characteristic features of respondents\n",
        "## - 2 Create and describe a customer segmentation based on customers behaviors\n",
        "## - 3 Create and describe a predictive model (classification) which allows the company to maximize the profit of the next marketing campaign."
      ],
      "metadata": {
        "id": "uHFPFl3RnKWz"
      }
    },
    {
      "cell_type": "markdown",
      "source": [
        "## First we import the libraries we are going to use "
      ],
      "metadata": {
        "id": "-ycSx0o2TGgM"
      }
    },
    {
      "cell_type": "code",
      "metadata": {
        "id": "CYmXXMpiSppi"
      },
      "source": [
        "import pandas as pd\n",
        "import numpy as np\n",
        "import matplotlib.pyplot as plt\n",
        "import seaborn as sns\n",
        "%matplotlib inline\n",
        "from sklearn.model_selection import train_test_split\n",
        "from sklearn.preprocessing import StandardScaler\n",
        "from sklearn.svm import SVC\n",
        "from sklearn.metrics import confusion_matrix, classification_report\n",
        "from sklearn.metrics import plot_confusion_matrix\n",
        "\n"
      ],
      "execution_count": 36,
      "outputs": []
    },
    {
      "cell_type": "code",
      "source": [
        "from google.colab import drive\n",
        "drive.mount('/content/drive')"
      ],
      "metadata": {
        "id": "uE17iSvZufTK",
        "colab": {
          "base_uri": "https://localhost:8080/"
        },
        "outputId": "76854616-0a82-4794-f531-1b5f2b74ee13"
      },
      "execution_count": 10,
      "outputs": [
        {
          "output_type": "stream",
          "name": "stdout",
          "text": [
            "Mounted at /content/drive\n"
          ]
        }
      ]
    },
    {
      "cell_type": "markdown",
      "source": [
        "## Bring the dataset"
      ],
      "metadata": {
        "id": "1nVY9zpVTkqq"
      }
    },
    {
      "cell_type": "code",
      "metadata": {
        "id": "f7UgOS8aLftP"
      },
      "source": [
        "df = pd.read_csv(\"/content/drive/MyDrive/PruebaIfood/ml_project1_data.csv\",index_col=0, encoding='latin-1')\n"
      ],
      "execution_count": 11,
      "outputs": []
    },
    {
      "cell_type": "code",
      "source": [
        "df0= df.copy()"
      ],
      "metadata": {
        "id": "0ak2bVdH_nuP"
      },
      "execution_count": 12,
      "outputs": []
    },
    {
      "cell_type": "markdown",
      "source": [
        "## Start exploring the data to see how many columns and rows we had plus the type of data that contained each column with the .info"
      ],
      "metadata": {
        "id": "NAyP7jhJzDQK"
      }
    },
    {
      "cell_type": "code",
      "source": [
        "df.shape"
      ],
      "metadata": {
        "id": "ZS7TfOayudiO",
        "colab": {
          "base_uri": "https://localhost:8080/"
        },
        "outputId": "e54f0a29-d472-4c79-fe45-06ab6558f952"
      },
      "execution_count": 13,
      "outputs": [
        {
          "output_type": "execute_result",
          "data": {
            "text/plain": [
              "(2240, 28)"
            ]
          },
          "metadata": {},
          "execution_count": 13
        }
      ]
    },
    {
      "cell_type": "code",
      "source": [
        "df.info()"
      ],
      "metadata": {
        "colab": {
          "base_uri": "https://localhost:8080/"
        },
        "id": "NNkG9IcC9ymo",
        "outputId": "8b6eca1e-299d-4da6-f263-0ffe06b5a6cb"
      },
      "execution_count": 14,
      "outputs": [
        {
          "output_type": "stream",
          "name": "stdout",
          "text": [
            "<class 'pandas.core.frame.DataFrame'>\n",
            "Int64Index: 2240 entries, 5524 to 9405\n",
            "Data columns (total 28 columns):\n",
            " #   Column               Non-Null Count  Dtype  \n",
            "---  ------               --------------  -----  \n",
            " 0   Year_Birth           2240 non-null   int64  \n",
            " 1   Education            2240 non-null   object \n",
            " 2   Marital_Status       2240 non-null   object \n",
            " 3   Income               2216 non-null   float64\n",
            " 4   Kidhome              2240 non-null   int64  \n",
            " 5   Teenhome             2240 non-null   int64  \n",
            " 6   Dt_Customer          2240 non-null   object \n",
            " 7   Recency              2240 non-null   int64  \n",
            " 8   MntWines             2240 non-null   int64  \n",
            " 9   MntFruits            2240 non-null   int64  \n",
            " 10  MntMeatProducts      2240 non-null   int64  \n",
            " 11  MntFishProducts      2240 non-null   int64  \n",
            " 12  MntSweetProducts     2240 non-null   int64  \n",
            " 13  MntGoldProds         2240 non-null   int64  \n",
            " 14  NumDealsPurchases    2240 non-null   int64  \n",
            " 15  NumWebPurchases      2240 non-null   int64  \n",
            " 16  NumCatalogPurchases  2240 non-null   int64  \n",
            " 17  NumStorePurchases    2240 non-null   int64  \n",
            " 18  NumWebVisitsMonth    2240 non-null   int64  \n",
            " 19  AcceptedCmp3         2240 non-null   int64  \n",
            " 20  AcceptedCmp4         2240 non-null   int64  \n",
            " 21  AcceptedCmp5         2240 non-null   int64  \n",
            " 22  AcceptedCmp1         2240 non-null   int64  \n",
            " 23  AcceptedCmp2         2240 non-null   int64  \n",
            " 24  Complain             2240 non-null   int64  \n",
            " 25  Z_CostContact        2240 non-null   int64  \n",
            " 26  Z_Revenue            2240 non-null   int64  \n",
            " 27  Response             2240 non-null   int64  \n",
            "dtypes: float64(1), int64(24), object(3)\n",
            "memory usage: 507.5+ KB\n"
          ]
        }
      ]
    },
    {
      "cell_type": "markdown",
      "source": [
        "## We add the age column to know more easily the number  "
      ],
      "metadata": {
        "id": "rPuGiBH0kAWp"
      }
    },
    {
      "cell_type": "code",
      "source": [
        "df['Age'] = 2022- df['Year_Birth']\n",
        "df1=df.copy()"
      ],
      "metadata": {
        "id": "IIYdAzEScW5X"
      },
      "execution_count": 15,
      "outputs": []
    },
    {
      "cell_type": "markdown",
      "source": [
        "## Now, we are going to look for missing and null values in the data "
      ],
      "metadata": {
        "id": "Rge-AIWm2iWB"
      }
    },
    {
      "cell_type": "code",
      "source": [
        "for col in df.columns:\n",
        "  nulos= df[col].isna().sum()\n",
        "  print(col,   \"{:.2f}%\".format(nulos*100/2240))"
      ],
      "metadata": {
        "colab": {
          "base_uri": "https://localhost:8080/"
        },
        "id": "NNWAmYBl_jMV",
        "outputId": "4912052c-821e-4ad2-bac5-7493b2bc1be0"
      },
      "execution_count": 16,
      "outputs": [
        {
          "output_type": "stream",
          "name": "stdout",
          "text": [
            "Year_Birth 0.00%\n",
            "Education 0.00%\n",
            "Marital_Status 0.00%\n",
            "Income 1.07%\n",
            "Kidhome 0.00%\n",
            "Teenhome 0.00%\n",
            "Dt_Customer 0.00%\n",
            "Recency 0.00%\n",
            "MntWines 0.00%\n",
            "MntFruits 0.00%\n",
            "MntMeatProducts 0.00%\n",
            "MntFishProducts 0.00%\n",
            "MntSweetProducts 0.00%\n",
            "MntGoldProds 0.00%\n",
            "NumDealsPurchases 0.00%\n",
            "NumWebPurchases 0.00%\n",
            "NumCatalogPurchases 0.00%\n",
            "NumStorePurchases 0.00%\n",
            "NumWebVisitsMonth 0.00%\n",
            "AcceptedCmp3 0.00%\n",
            "AcceptedCmp4 0.00%\n",
            "AcceptedCmp5 0.00%\n",
            "AcceptedCmp1 0.00%\n",
            "AcceptedCmp2 0.00%\n",
            "Complain 0.00%\n",
            "Z_CostContact 0.00%\n",
            "Z_Revenue 0.00%\n",
            "Response 0.00%\n",
            "Age 0.00%\n"
          ]
        }
      ]
    },
    {
      "cell_type": "markdown",
      "source": [
        "##We drop the missing values since there is not even 5% of the information"
      ],
      "metadata": {
        "id": "QQSdTvWy4cIq"
      }
    },
    {
      "cell_type": "code",
      "source": [
        "df1.dropna(inplace=True)"
      ],
      "metadata": {
        "id": "8nJCVVJa4rRw"
      },
      "execution_count": 17,
      "outputs": []
    },
    {
      "cell_type": "code",
      "source": [
        "df1.head()"
      ],
      "metadata": {
        "colab": {
          "base_uri": "https://localhost:8080/",
          "height": 331
        },
        "id": "Ox283ycbc2P2",
        "outputId": "c823ad5d-74b8-48a1-b23c-dcd918384037"
      },
      "execution_count": 18,
      "outputs": [
        {
          "output_type": "execute_result",
          "data": {
            "text/plain": [
              "      Year_Birth   Education Marital_Status   Income  Kidhome  Teenhome  \\\n",
              "ID                                                                        \n",
              "5524        1957  Graduation         Single  58138.0        0         0   \n",
              "2174        1954  Graduation         Single  46344.0        1         1   \n",
              "4141        1965  Graduation       Together  71613.0        0         0   \n",
              "6182        1984  Graduation       Together  26646.0        1         0   \n",
              "5324        1981         PhD        Married  58293.0        1         0   \n",
              "\n",
              "     Dt_Customer  Recency  MntWines  MntFruits  ...  AcceptedCmp3  \\\n",
              "ID                                              ...                 \n",
              "5524  2012-09-04       58       635         88  ...             0   \n",
              "2174  2014-03-08       38        11          1  ...             0   \n",
              "4141  2013-08-21       26       426         49  ...             0   \n",
              "6182  2014-02-10       26        11          4  ...             0   \n",
              "5324  2014-01-19       94       173         43  ...             0   \n",
              "\n",
              "      AcceptedCmp4  AcceptedCmp5  AcceptedCmp1  AcceptedCmp2  Complain  \\\n",
              "ID                                                                       \n",
              "5524             0             0             0             0         0   \n",
              "2174             0             0             0             0         0   \n",
              "4141             0             0             0             0         0   \n",
              "6182             0             0             0             0         0   \n",
              "5324             0             0             0             0         0   \n",
              "\n",
              "      Z_CostContact  Z_Revenue  Response  Age  \n",
              "ID                                             \n",
              "5524              3         11         1   65  \n",
              "2174              3         11         0   68  \n",
              "4141              3         11         0   57  \n",
              "6182              3         11         0   38  \n",
              "5324              3         11         0   41  \n",
              "\n",
              "[5 rows x 29 columns]"
            ],
            "text/html": [
              "\n",
              "  <div id=\"df-28bccdbf-0a10-40dc-a6f9-d1fabeaa3a64\">\n",
              "    <div class=\"colab-df-container\">\n",
              "      <div>\n",
              "<style scoped>\n",
              "    .dataframe tbody tr th:only-of-type {\n",
              "        vertical-align: middle;\n",
              "    }\n",
              "\n",
              "    .dataframe tbody tr th {\n",
              "        vertical-align: top;\n",
              "    }\n",
              "\n",
              "    .dataframe thead th {\n",
              "        text-align: right;\n",
              "    }\n",
              "</style>\n",
              "<table border=\"1\" class=\"dataframe\">\n",
              "  <thead>\n",
              "    <tr style=\"text-align: right;\">\n",
              "      <th></th>\n",
              "      <th>Year_Birth</th>\n",
              "      <th>Education</th>\n",
              "      <th>Marital_Status</th>\n",
              "      <th>Income</th>\n",
              "      <th>Kidhome</th>\n",
              "      <th>Teenhome</th>\n",
              "      <th>Dt_Customer</th>\n",
              "      <th>Recency</th>\n",
              "      <th>MntWines</th>\n",
              "      <th>MntFruits</th>\n",
              "      <th>...</th>\n",
              "      <th>AcceptedCmp3</th>\n",
              "      <th>AcceptedCmp4</th>\n",
              "      <th>AcceptedCmp5</th>\n",
              "      <th>AcceptedCmp1</th>\n",
              "      <th>AcceptedCmp2</th>\n",
              "      <th>Complain</th>\n",
              "      <th>Z_CostContact</th>\n",
              "      <th>Z_Revenue</th>\n",
              "      <th>Response</th>\n",
              "      <th>Age</th>\n",
              "    </tr>\n",
              "    <tr>\n",
              "      <th>ID</th>\n",
              "      <th></th>\n",
              "      <th></th>\n",
              "      <th></th>\n",
              "      <th></th>\n",
              "      <th></th>\n",
              "      <th></th>\n",
              "      <th></th>\n",
              "      <th></th>\n",
              "      <th></th>\n",
              "      <th></th>\n",
              "      <th></th>\n",
              "      <th></th>\n",
              "      <th></th>\n",
              "      <th></th>\n",
              "      <th></th>\n",
              "      <th></th>\n",
              "      <th></th>\n",
              "      <th></th>\n",
              "      <th></th>\n",
              "      <th></th>\n",
              "      <th></th>\n",
              "    </tr>\n",
              "  </thead>\n",
              "  <tbody>\n",
              "    <tr>\n",
              "      <th>5524</th>\n",
              "      <td>1957</td>\n",
              "      <td>Graduation</td>\n",
              "      <td>Single</td>\n",
              "      <td>58138.0</td>\n",
              "      <td>0</td>\n",
              "      <td>0</td>\n",
              "      <td>2012-09-04</td>\n",
              "      <td>58</td>\n",
              "      <td>635</td>\n",
              "      <td>88</td>\n",
              "      <td>...</td>\n",
              "      <td>0</td>\n",
              "      <td>0</td>\n",
              "      <td>0</td>\n",
              "      <td>0</td>\n",
              "      <td>0</td>\n",
              "      <td>0</td>\n",
              "      <td>3</td>\n",
              "      <td>11</td>\n",
              "      <td>1</td>\n",
              "      <td>65</td>\n",
              "    </tr>\n",
              "    <tr>\n",
              "      <th>2174</th>\n",
              "      <td>1954</td>\n",
              "      <td>Graduation</td>\n",
              "      <td>Single</td>\n",
              "      <td>46344.0</td>\n",
              "      <td>1</td>\n",
              "      <td>1</td>\n",
              "      <td>2014-03-08</td>\n",
              "      <td>38</td>\n",
              "      <td>11</td>\n",
              "      <td>1</td>\n",
              "      <td>...</td>\n",
              "      <td>0</td>\n",
              "      <td>0</td>\n",
              "      <td>0</td>\n",
              "      <td>0</td>\n",
              "      <td>0</td>\n",
              "      <td>0</td>\n",
              "      <td>3</td>\n",
              "      <td>11</td>\n",
              "      <td>0</td>\n",
              "      <td>68</td>\n",
              "    </tr>\n",
              "    <tr>\n",
              "      <th>4141</th>\n",
              "      <td>1965</td>\n",
              "      <td>Graduation</td>\n",
              "      <td>Together</td>\n",
              "      <td>71613.0</td>\n",
              "      <td>0</td>\n",
              "      <td>0</td>\n",
              "      <td>2013-08-21</td>\n",
              "      <td>26</td>\n",
              "      <td>426</td>\n",
              "      <td>49</td>\n",
              "      <td>...</td>\n",
              "      <td>0</td>\n",
              "      <td>0</td>\n",
              "      <td>0</td>\n",
              "      <td>0</td>\n",
              "      <td>0</td>\n",
              "      <td>0</td>\n",
              "      <td>3</td>\n",
              "      <td>11</td>\n",
              "      <td>0</td>\n",
              "      <td>57</td>\n",
              "    </tr>\n",
              "    <tr>\n",
              "      <th>6182</th>\n",
              "      <td>1984</td>\n",
              "      <td>Graduation</td>\n",
              "      <td>Together</td>\n",
              "      <td>26646.0</td>\n",
              "      <td>1</td>\n",
              "      <td>0</td>\n",
              "      <td>2014-02-10</td>\n",
              "      <td>26</td>\n",
              "      <td>11</td>\n",
              "      <td>4</td>\n",
              "      <td>...</td>\n",
              "      <td>0</td>\n",
              "      <td>0</td>\n",
              "      <td>0</td>\n",
              "      <td>0</td>\n",
              "      <td>0</td>\n",
              "      <td>0</td>\n",
              "      <td>3</td>\n",
              "      <td>11</td>\n",
              "      <td>0</td>\n",
              "      <td>38</td>\n",
              "    </tr>\n",
              "    <tr>\n",
              "      <th>5324</th>\n",
              "      <td>1981</td>\n",
              "      <td>PhD</td>\n",
              "      <td>Married</td>\n",
              "      <td>58293.0</td>\n",
              "      <td>1</td>\n",
              "      <td>0</td>\n",
              "      <td>2014-01-19</td>\n",
              "      <td>94</td>\n",
              "      <td>173</td>\n",
              "      <td>43</td>\n",
              "      <td>...</td>\n",
              "      <td>0</td>\n",
              "      <td>0</td>\n",
              "      <td>0</td>\n",
              "      <td>0</td>\n",
              "      <td>0</td>\n",
              "      <td>0</td>\n",
              "      <td>3</td>\n",
              "      <td>11</td>\n",
              "      <td>0</td>\n",
              "      <td>41</td>\n",
              "    </tr>\n",
              "  </tbody>\n",
              "</table>\n",
              "<p>5 rows × 29 columns</p>\n",
              "</div>\n",
              "      <button class=\"colab-df-convert\" onclick=\"convertToInteractive('df-28bccdbf-0a10-40dc-a6f9-d1fabeaa3a64')\"\n",
              "              title=\"Convert this dataframe to an interactive table.\"\n",
              "              style=\"display:none;\">\n",
              "        \n",
              "  <svg xmlns=\"http://www.w3.org/2000/svg\" height=\"24px\"viewBox=\"0 0 24 24\"\n",
              "       width=\"24px\">\n",
              "    <path d=\"M0 0h24v24H0V0z\" fill=\"none\"/>\n",
              "    <path d=\"M18.56 5.44l.94 2.06.94-2.06 2.06-.94-2.06-.94-.94-2.06-.94 2.06-2.06.94zm-11 1L8.5 8.5l.94-2.06 2.06-.94-2.06-.94L8.5 2.5l-.94 2.06-2.06.94zm10 10l.94 2.06.94-2.06 2.06-.94-2.06-.94-.94-2.06-.94 2.06-2.06.94z\"/><path d=\"M17.41 7.96l-1.37-1.37c-.4-.4-.92-.59-1.43-.59-.52 0-1.04.2-1.43.59L10.3 9.45l-7.72 7.72c-.78.78-.78 2.05 0 2.83L4 21.41c.39.39.9.59 1.41.59.51 0 1.02-.2 1.41-.59l7.78-7.78 2.81-2.81c.8-.78.8-2.07 0-2.86zM5.41 20L4 18.59l7.72-7.72 1.47 1.35L5.41 20z\"/>\n",
              "  </svg>\n",
              "      </button>\n",
              "      \n",
              "  <style>\n",
              "    .colab-df-container {\n",
              "      display:flex;\n",
              "      flex-wrap:wrap;\n",
              "      gap: 12px;\n",
              "    }\n",
              "\n",
              "    .colab-df-convert {\n",
              "      background-color: #E8F0FE;\n",
              "      border: none;\n",
              "      border-radius: 50%;\n",
              "      cursor: pointer;\n",
              "      display: none;\n",
              "      fill: #1967D2;\n",
              "      height: 32px;\n",
              "      padding: 0 0 0 0;\n",
              "      width: 32px;\n",
              "    }\n",
              "\n",
              "    .colab-df-convert:hover {\n",
              "      background-color: #E2EBFA;\n",
              "      box-shadow: 0px 1px 2px rgba(60, 64, 67, 0.3), 0px 1px 3px 1px rgba(60, 64, 67, 0.15);\n",
              "      fill: #174EA6;\n",
              "    }\n",
              "\n",
              "    [theme=dark] .colab-df-convert {\n",
              "      background-color: #3B4455;\n",
              "      fill: #D2E3FC;\n",
              "    }\n",
              "\n",
              "    [theme=dark] .colab-df-convert:hover {\n",
              "      background-color: #434B5C;\n",
              "      box-shadow: 0px 1px 3px 1px rgba(0, 0, 0, 0.15);\n",
              "      filter: drop-shadow(0px 1px 2px rgba(0, 0, 0, 0.3));\n",
              "      fill: #FFFFFF;\n",
              "    }\n",
              "  </style>\n",
              "\n",
              "      <script>\n",
              "        const buttonEl =\n",
              "          document.querySelector('#df-28bccdbf-0a10-40dc-a6f9-d1fabeaa3a64 button.colab-df-convert');\n",
              "        buttonEl.style.display =\n",
              "          google.colab.kernel.accessAllowed ? 'block' : 'none';\n",
              "\n",
              "        async function convertToInteractive(key) {\n",
              "          const element = document.querySelector('#df-28bccdbf-0a10-40dc-a6f9-d1fabeaa3a64');\n",
              "          const dataTable =\n",
              "            await google.colab.kernel.invokeFunction('convertToInteractive',\n",
              "                                                     [key], {});\n",
              "          if (!dataTable) return;\n",
              "\n",
              "          const docLinkHtml = 'Like what you see? Visit the ' +\n",
              "            '<a target=\"_blank\" href=https://colab.research.google.com/notebooks/data_table.ipynb>data table notebook</a>'\n",
              "            + ' to learn more about interactive tables.';\n",
              "          element.innerHTML = '';\n",
              "          dataTable['output_type'] = 'display_data';\n",
              "          await google.colab.output.renderOutput(dataTable, element);\n",
              "          const docLink = document.createElement('div');\n",
              "          docLink.innerHTML = docLinkHtml;\n",
              "          element.appendChild(docLink);\n",
              "        }\n",
              "      </script>\n",
              "    </div>\n",
              "  </div>\n",
              "  "
            ]
          },
          "metadata": {},
          "execution_count": 18
        }
      ]
    },
    {
      "cell_type": "markdown",
      "source": [
        "## Since we find through the .info that some columns are not numerical, we are going to encode these columns to not lose relevant information for model construction"
      ],
      "metadata": {
        "id": "mYzP4cx16N2l"
      }
    },
    {
      "cell_type": "code",
      "source": [
        "df1=pd.get_dummies(df1, columns=[\"Education\", \"Marital_Status\"])\n"
      ],
      "metadata": {
        "id": "iVIFokQQ6L2n"
      },
      "execution_count": 19,
      "outputs": []
    },
    {
      "cell_type": "code",
      "source": [
        "df2=df1.copy()"
      ],
      "metadata": {
        "id": "vS0g92De7s3k"
      },
      "execution_count": 20,
      "outputs": []
    },
    {
      "cell_type": "code",
      "source": [
        "df2.head()"
      ],
      "metadata": {
        "colab": {
          "base_uri": "https://localhost:8080/",
          "height": 331
        },
        "id": "nhFAZBgiArpZ",
        "outputId": "eb5e6630-d0c6-4032-bd1f-e3c626095c2e"
      },
      "execution_count": 21,
      "outputs": [
        {
          "output_type": "execute_result",
          "data": {
            "text/plain": [
              "      Year_Birth   Income  Kidhome  Teenhome Dt_Customer  Recency  MntWines  \\\n",
              "ID                                                                            \n",
              "5524        1957  58138.0        0         0  2012-09-04       58       635   \n",
              "2174        1954  46344.0        1         1  2014-03-08       38        11   \n",
              "4141        1965  71613.0        0         0  2013-08-21       26       426   \n",
              "6182        1984  26646.0        1         0  2014-02-10       26        11   \n",
              "5324        1981  58293.0        1         0  2014-01-19       94       173   \n",
              "\n",
              "      MntFruits  MntMeatProducts  MntFishProducts  ...  Education_Master  \\\n",
              "ID                                                 ...                     \n",
              "5524         88              546              172  ...                 0   \n",
              "2174          1                6                2  ...                 0   \n",
              "4141         49              127              111  ...                 0   \n",
              "6182          4               20               10  ...                 0   \n",
              "5324         43              118               46  ...                 0   \n",
              "\n",
              "      Education_PhD  Marital_Status_Absurd  Marital_Status_Alone  \\\n",
              "ID                                                                 \n",
              "5524              0                      0                     0   \n",
              "2174              0                      0                     0   \n",
              "4141              0                      0                     0   \n",
              "6182              0                      0                     0   \n",
              "5324              1                      0                     0   \n",
              "\n",
              "      Marital_Status_Divorced  Marital_Status_Married  Marital_Status_Single  \\\n",
              "ID                                                                             \n",
              "5524                        0                       0                      1   \n",
              "2174                        0                       0                      1   \n",
              "4141                        0                       0                      0   \n",
              "6182                        0                       0                      0   \n",
              "5324                        0                       1                      0   \n",
              "\n",
              "      Marital_Status_Together  Marital_Status_Widow  Marital_Status_YOLO  \n",
              "ID                                                                        \n",
              "5524                        0                     0                    0  \n",
              "2174                        0                     0                    0  \n",
              "4141                        1                     0                    0  \n",
              "6182                        1                     0                    0  \n",
              "5324                        0                     0                    0  \n",
              "\n",
              "[5 rows x 40 columns]"
            ],
            "text/html": [
              "\n",
              "  <div id=\"df-ece2558c-d8e2-4b31-a3a7-a5f3d18acdb3\">\n",
              "    <div class=\"colab-df-container\">\n",
              "      <div>\n",
              "<style scoped>\n",
              "    .dataframe tbody tr th:only-of-type {\n",
              "        vertical-align: middle;\n",
              "    }\n",
              "\n",
              "    .dataframe tbody tr th {\n",
              "        vertical-align: top;\n",
              "    }\n",
              "\n",
              "    .dataframe thead th {\n",
              "        text-align: right;\n",
              "    }\n",
              "</style>\n",
              "<table border=\"1\" class=\"dataframe\">\n",
              "  <thead>\n",
              "    <tr style=\"text-align: right;\">\n",
              "      <th></th>\n",
              "      <th>Year_Birth</th>\n",
              "      <th>Income</th>\n",
              "      <th>Kidhome</th>\n",
              "      <th>Teenhome</th>\n",
              "      <th>Dt_Customer</th>\n",
              "      <th>Recency</th>\n",
              "      <th>MntWines</th>\n",
              "      <th>MntFruits</th>\n",
              "      <th>MntMeatProducts</th>\n",
              "      <th>MntFishProducts</th>\n",
              "      <th>...</th>\n",
              "      <th>Education_Master</th>\n",
              "      <th>Education_PhD</th>\n",
              "      <th>Marital_Status_Absurd</th>\n",
              "      <th>Marital_Status_Alone</th>\n",
              "      <th>Marital_Status_Divorced</th>\n",
              "      <th>Marital_Status_Married</th>\n",
              "      <th>Marital_Status_Single</th>\n",
              "      <th>Marital_Status_Together</th>\n",
              "      <th>Marital_Status_Widow</th>\n",
              "      <th>Marital_Status_YOLO</th>\n",
              "    </tr>\n",
              "    <tr>\n",
              "      <th>ID</th>\n",
              "      <th></th>\n",
              "      <th></th>\n",
              "      <th></th>\n",
              "      <th></th>\n",
              "      <th></th>\n",
              "      <th></th>\n",
              "      <th></th>\n",
              "      <th></th>\n",
              "      <th></th>\n",
              "      <th></th>\n",
              "      <th></th>\n",
              "      <th></th>\n",
              "      <th></th>\n",
              "      <th></th>\n",
              "      <th></th>\n",
              "      <th></th>\n",
              "      <th></th>\n",
              "      <th></th>\n",
              "      <th></th>\n",
              "      <th></th>\n",
              "      <th></th>\n",
              "    </tr>\n",
              "  </thead>\n",
              "  <tbody>\n",
              "    <tr>\n",
              "      <th>5524</th>\n",
              "      <td>1957</td>\n",
              "      <td>58138.0</td>\n",
              "      <td>0</td>\n",
              "      <td>0</td>\n",
              "      <td>2012-09-04</td>\n",
              "      <td>58</td>\n",
              "      <td>635</td>\n",
              "      <td>88</td>\n",
              "      <td>546</td>\n",
              "      <td>172</td>\n",
              "      <td>...</td>\n",
              "      <td>0</td>\n",
              "      <td>0</td>\n",
              "      <td>0</td>\n",
              "      <td>0</td>\n",
              "      <td>0</td>\n",
              "      <td>0</td>\n",
              "      <td>1</td>\n",
              "      <td>0</td>\n",
              "      <td>0</td>\n",
              "      <td>0</td>\n",
              "    </tr>\n",
              "    <tr>\n",
              "      <th>2174</th>\n",
              "      <td>1954</td>\n",
              "      <td>46344.0</td>\n",
              "      <td>1</td>\n",
              "      <td>1</td>\n",
              "      <td>2014-03-08</td>\n",
              "      <td>38</td>\n",
              "      <td>11</td>\n",
              "      <td>1</td>\n",
              "      <td>6</td>\n",
              "      <td>2</td>\n",
              "      <td>...</td>\n",
              "      <td>0</td>\n",
              "      <td>0</td>\n",
              "      <td>0</td>\n",
              "      <td>0</td>\n",
              "      <td>0</td>\n",
              "      <td>0</td>\n",
              "      <td>1</td>\n",
              "      <td>0</td>\n",
              "      <td>0</td>\n",
              "      <td>0</td>\n",
              "    </tr>\n",
              "    <tr>\n",
              "      <th>4141</th>\n",
              "      <td>1965</td>\n",
              "      <td>71613.0</td>\n",
              "      <td>0</td>\n",
              "      <td>0</td>\n",
              "      <td>2013-08-21</td>\n",
              "      <td>26</td>\n",
              "      <td>426</td>\n",
              "      <td>49</td>\n",
              "      <td>127</td>\n",
              "      <td>111</td>\n",
              "      <td>...</td>\n",
              "      <td>0</td>\n",
              "      <td>0</td>\n",
              "      <td>0</td>\n",
              "      <td>0</td>\n",
              "      <td>0</td>\n",
              "      <td>0</td>\n",
              "      <td>0</td>\n",
              "      <td>1</td>\n",
              "      <td>0</td>\n",
              "      <td>0</td>\n",
              "    </tr>\n",
              "    <tr>\n",
              "      <th>6182</th>\n",
              "      <td>1984</td>\n",
              "      <td>26646.0</td>\n",
              "      <td>1</td>\n",
              "      <td>0</td>\n",
              "      <td>2014-02-10</td>\n",
              "      <td>26</td>\n",
              "      <td>11</td>\n",
              "      <td>4</td>\n",
              "      <td>20</td>\n",
              "      <td>10</td>\n",
              "      <td>...</td>\n",
              "      <td>0</td>\n",
              "      <td>0</td>\n",
              "      <td>0</td>\n",
              "      <td>0</td>\n",
              "      <td>0</td>\n",
              "      <td>0</td>\n",
              "      <td>0</td>\n",
              "      <td>1</td>\n",
              "      <td>0</td>\n",
              "      <td>0</td>\n",
              "    </tr>\n",
              "    <tr>\n",
              "      <th>5324</th>\n",
              "      <td>1981</td>\n",
              "      <td>58293.0</td>\n",
              "      <td>1</td>\n",
              "      <td>0</td>\n",
              "      <td>2014-01-19</td>\n",
              "      <td>94</td>\n",
              "      <td>173</td>\n",
              "      <td>43</td>\n",
              "      <td>118</td>\n",
              "      <td>46</td>\n",
              "      <td>...</td>\n",
              "      <td>0</td>\n",
              "      <td>1</td>\n",
              "      <td>0</td>\n",
              "      <td>0</td>\n",
              "      <td>0</td>\n",
              "      <td>1</td>\n",
              "      <td>0</td>\n",
              "      <td>0</td>\n",
              "      <td>0</td>\n",
              "      <td>0</td>\n",
              "    </tr>\n",
              "  </tbody>\n",
              "</table>\n",
              "<p>5 rows × 40 columns</p>\n",
              "</div>\n",
              "      <button class=\"colab-df-convert\" onclick=\"convertToInteractive('df-ece2558c-d8e2-4b31-a3a7-a5f3d18acdb3')\"\n",
              "              title=\"Convert this dataframe to an interactive table.\"\n",
              "              style=\"display:none;\">\n",
              "        \n",
              "  <svg xmlns=\"http://www.w3.org/2000/svg\" height=\"24px\"viewBox=\"0 0 24 24\"\n",
              "       width=\"24px\">\n",
              "    <path d=\"M0 0h24v24H0V0z\" fill=\"none\"/>\n",
              "    <path d=\"M18.56 5.44l.94 2.06.94-2.06 2.06-.94-2.06-.94-.94-2.06-.94 2.06-2.06.94zm-11 1L8.5 8.5l.94-2.06 2.06-.94-2.06-.94L8.5 2.5l-.94 2.06-2.06.94zm10 10l.94 2.06.94-2.06 2.06-.94-2.06-.94-.94-2.06-.94 2.06-2.06.94z\"/><path d=\"M17.41 7.96l-1.37-1.37c-.4-.4-.92-.59-1.43-.59-.52 0-1.04.2-1.43.59L10.3 9.45l-7.72 7.72c-.78.78-.78 2.05 0 2.83L4 21.41c.39.39.9.59 1.41.59.51 0 1.02-.2 1.41-.59l7.78-7.78 2.81-2.81c.8-.78.8-2.07 0-2.86zM5.41 20L4 18.59l7.72-7.72 1.47 1.35L5.41 20z\"/>\n",
              "  </svg>\n",
              "      </button>\n",
              "      \n",
              "  <style>\n",
              "    .colab-df-container {\n",
              "      display:flex;\n",
              "      flex-wrap:wrap;\n",
              "      gap: 12px;\n",
              "    }\n",
              "\n",
              "    .colab-df-convert {\n",
              "      background-color: #E8F0FE;\n",
              "      border: none;\n",
              "      border-radius: 50%;\n",
              "      cursor: pointer;\n",
              "      display: none;\n",
              "      fill: #1967D2;\n",
              "      height: 32px;\n",
              "      padding: 0 0 0 0;\n",
              "      width: 32px;\n",
              "    }\n",
              "\n",
              "    .colab-df-convert:hover {\n",
              "      background-color: #E2EBFA;\n",
              "      box-shadow: 0px 1px 2px rgba(60, 64, 67, 0.3), 0px 1px 3px 1px rgba(60, 64, 67, 0.15);\n",
              "      fill: #174EA6;\n",
              "    }\n",
              "\n",
              "    [theme=dark] .colab-df-convert {\n",
              "      background-color: #3B4455;\n",
              "      fill: #D2E3FC;\n",
              "    }\n",
              "\n",
              "    [theme=dark] .colab-df-convert:hover {\n",
              "      background-color: #434B5C;\n",
              "      box-shadow: 0px 1px 3px 1px rgba(0, 0, 0, 0.15);\n",
              "      filter: drop-shadow(0px 1px 2px rgba(0, 0, 0, 0.3));\n",
              "      fill: #FFFFFF;\n",
              "    }\n",
              "  </style>\n",
              "\n",
              "      <script>\n",
              "        const buttonEl =\n",
              "          document.querySelector('#df-ece2558c-d8e2-4b31-a3a7-a5f3d18acdb3 button.colab-df-convert');\n",
              "        buttonEl.style.display =\n",
              "          google.colab.kernel.accessAllowed ? 'block' : 'none';\n",
              "\n",
              "        async function convertToInteractive(key) {\n",
              "          const element = document.querySelector('#df-ece2558c-d8e2-4b31-a3a7-a5f3d18acdb3');\n",
              "          const dataTable =\n",
              "            await google.colab.kernel.invokeFunction('convertToInteractive',\n",
              "                                                     [key], {});\n",
              "          if (!dataTable) return;\n",
              "\n",
              "          const docLinkHtml = 'Like what you see? Visit the ' +\n",
              "            '<a target=\"_blank\" href=https://colab.research.google.com/notebooks/data_table.ipynb>data table notebook</a>'\n",
              "            + ' to learn more about interactive tables.';\n",
              "          element.innerHTML = '';\n",
              "          dataTable['output_type'] = 'display_data';\n",
              "          await google.colab.output.renderOutput(dataTable, element);\n",
              "          const docLink = document.createElement('div');\n",
              "          docLink.innerHTML = docLinkHtml;\n",
              "          element.appendChild(docLink);\n",
              "        }\n",
              "      </script>\n",
              "    </div>\n",
              "  </div>\n",
              "  "
            ]
          },
          "metadata": {},
          "execution_count": 21
        }
      ]
    },
    {
      "cell_type": "markdown",
      "source": [
        "## Now we look for some statistics measures like the mean and the quartiles of the numerical variables  "
      ],
      "metadata": {
        "id": "HfyKoPBL5Gny"
      }
    },
    {
      "cell_type": "code",
      "metadata": {
        "colab": {
          "base_uri": "https://localhost:8080/",
          "height": 394
        },
        "id": "mhroCOvChsrj",
        "outputId": "de41045e-d77b-4d46-f8d8-afb57731874a"
      },
      "source": [
        "df2.describe()"
      ],
      "execution_count": 22,
      "outputs": [
        {
          "output_type": "execute_result",
          "data": {
            "text/plain": [
              "        Year_Birth         Income      Kidhome     Teenhome      Recency  \\\n",
              "count  2216.000000    2216.000000  2216.000000  2216.000000  2216.000000   \n",
              "mean   1968.820397   52247.251354     0.441787     0.505415    49.012635   \n",
              "std      11.985554   25173.076661     0.536896     0.544181    28.948352   \n",
              "min    1893.000000    1730.000000     0.000000     0.000000     0.000000   \n",
              "25%    1959.000000   35303.000000     0.000000     0.000000    24.000000   \n",
              "50%    1970.000000   51381.500000     0.000000     0.000000    49.000000   \n",
              "75%    1977.000000   68522.000000     1.000000     1.000000    74.000000   \n",
              "max    1996.000000  666666.000000     2.000000     2.000000    99.000000   \n",
              "\n",
              "          MntWines    MntFruits  MntMeatProducts  MntFishProducts  \\\n",
              "count  2216.000000  2216.000000      2216.000000      2216.000000   \n",
              "mean    305.091606    26.356047       166.995939        37.637635   \n",
              "std     337.327920    39.793917       224.283273        54.752082   \n",
              "min       0.000000     0.000000         0.000000         0.000000   \n",
              "25%      24.000000     2.000000        16.000000         3.000000   \n",
              "50%     174.500000     8.000000        68.000000        12.000000   \n",
              "75%     505.000000    33.000000       232.250000        50.000000   \n",
              "max    1493.000000   199.000000      1725.000000       259.000000   \n",
              "\n",
              "       MntSweetProducts  ...  Education_Master  Education_PhD  \\\n",
              "count       2216.000000  ...       2216.000000    2216.000000   \n",
              "mean          27.028881  ...          0.164711       0.217058   \n",
              "std           41.072046  ...          0.371003       0.412335   \n",
              "min            0.000000  ...          0.000000       0.000000   \n",
              "25%            1.000000  ...          0.000000       0.000000   \n",
              "50%            8.000000  ...          0.000000       0.000000   \n",
              "75%           33.000000  ...          0.000000       0.000000   \n",
              "max          262.000000  ...          1.000000       1.000000   \n",
              "\n",
              "       Marital_Status_Absurd  Marital_Status_Alone  Marital_Status_Divorced  \\\n",
              "count            2216.000000           2216.000000              2216.000000   \n",
              "mean                0.000903              0.001354                 0.104693   \n",
              "std                 0.030035              0.036777                 0.306227   \n",
              "min                 0.000000              0.000000                 0.000000   \n",
              "25%                 0.000000              0.000000                 0.000000   \n",
              "50%                 0.000000              0.000000                 0.000000   \n",
              "75%                 0.000000              0.000000                 0.000000   \n",
              "max                 1.000000              1.000000                 1.000000   \n",
              "\n",
              "       Marital_Status_Married  Marital_Status_Single  Marital_Status_Together  \\\n",
              "count             2216.000000            2216.000000              2216.000000   \n",
              "mean                 0.386733               0.212545                 0.258574   \n",
              "std                  0.487112               0.409201                 0.437950   \n",
              "min                  0.000000               0.000000                 0.000000   \n",
              "25%                  0.000000               0.000000                 0.000000   \n",
              "50%                  0.000000               0.000000                 0.000000   \n",
              "75%                  1.000000               0.000000                 1.000000   \n",
              "max                  1.000000               1.000000                 1.000000   \n",
              "\n",
              "       Marital_Status_Widow  Marital_Status_YOLO  \n",
              "count           2216.000000          2216.000000  \n",
              "mean               0.034296             0.000903  \n",
              "std                0.182030             0.030035  \n",
              "min                0.000000             0.000000  \n",
              "25%                0.000000             0.000000  \n",
              "50%                0.000000             0.000000  \n",
              "75%                0.000000             0.000000  \n",
              "max                1.000000             1.000000  \n",
              "\n",
              "[8 rows x 39 columns]"
            ],
            "text/html": [
              "\n",
              "  <div id=\"df-f5a73ffd-e230-447d-b15f-3c2669cb8c52\">\n",
              "    <div class=\"colab-df-container\">\n",
              "      <div>\n",
              "<style scoped>\n",
              "    .dataframe tbody tr th:only-of-type {\n",
              "        vertical-align: middle;\n",
              "    }\n",
              "\n",
              "    .dataframe tbody tr th {\n",
              "        vertical-align: top;\n",
              "    }\n",
              "\n",
              "    .dataframe thead th {\n",
              "        text-align: right;\n",
              "    }\n",
              "</style>\n",
              "<table border=\"1\" class=\"dataframe\">\n",
              "  <thead>\n",
              "    <tr style=\"text-align: right;\">\n",
              "      <th></th>\n",
              "      <th>Year_Birth</th>\n",
              "      <th>Income</th>\n",
              "      <th>Kidhome</th>\n",
              "      <th>Teenhome</th>\n",
              "      <th>Recency</th>\n",
              "      <th>MntWines</th>\n",
              "      <th>MntFruits</th>\n",
              "      <th>MntMeatProducts</th>\n",
              "      <th>MntFishProducts</th>\n",
              "      <th>MntSweetProducts</th>\n",
              "      <th>...</th>\n",
              "      <th>Education_Master</th>\n",
              "      <th>Education_PhD</th>\n",
              "      <th>Marital_Status_Absurd</th>\n",
              "      <th>Marital_Status_Alone</th>\n",
              "      <th>Marital_Status_Divorced</th>\n",
              "      <th>Marital_Status_Married</th>\n",
              "      <th>Marital_Status_Single</th>\n",
              "      <th>Marital_Status_Together</th>\n",
              "      <th>Marital_Status_Widow</th>\n",
              "      <th>Marital_Status_YOLO</th>\n",
              "    </tr>\n",
              "  </thead>\n",
              "  <tbody>\n",
              "    <tr>\n",
              "      <th>count</th>\n",
              "      <td>2216.000000</td>\n",
              "      <td>2216.000000</td>\n",
              "      <td>2216.000000</td>\n",
              "      <td>2216.000000</td>\n",
              "      <td>2216.000000</td>\n",
              "      <td>2216.000000</td>\n",
              "      <td>2216.000000</td>\n",
              "      <td>2216.000000</td>\n",
              "      <td>2216.000000</td>\n",
              "      <td>2216.000000</td>\n",
              "      <td>...</td>\n",
              "      <td>2216.000000</td>\n",
              "      <td>2216.000000</td>\n",
              "      <td>2216.000000</td>\n",
              "      <td>2216.000000</td>\n",
              "      <td>2216.000000</td>\n",
              "      <td>2216.000000</td>\n",
              "      <td>2216.000000</td>\n",
              "      <td>2216.000000</td>\n",
              "      <td>2216.000000</td>\n",
              "      <td>2216.000000</td>\n",
              "    </tr>\n",
              "    <tr>\n",
              "      <th>mean</th>\n",
              "      <td>1968.820397</td>\n",
              "      <td>52247.251354</td>\n",
              "      <td>0.441787</td>\n",
              "      <td>0.505415</td>\n",
              "      <td>49.012635</td>\n",
              "      <td>305.091606</td>\n",
              "      <td>26.356047</td>\n",
              "      <td>166.995939</td>\n",
              "      <td>37.637635</td>\n",
              "      <td>27.028881</td>\n",
              "      <td>...</td>\n",
              "      <td>0.164711</td>\n",
              "      <td>0.217058</td>\n",
              "      <td>0.000903</td>\n",
              "      <td>0.001354</td>\n",
              "      <td>0.104693</td>\n",
              "      <td>0.386733</td>\n",
              "      <td>0.212545</td>\n",
              "      <td>0.258574</td>\n",
              "      <td>0.034296</td>\n",
              "      <td>0.000903</td>\n",
              "    </tr>\n",
              "    <tr>\n",
              "      <th>std</th>\n",
              "      <td>11.985554</td>\n",
              "      <td>25173.076661</td>\n",
              "      <td>0.536896</td>\n",
              "      <td>0.544181</td>\n",
              "      <td>28.948352</td>\n",
              "      <td>337.327920</td>\n",
              "      <td>39.793917</td>\n",
              "      <td>224.283273</td>\n",
              "      <td>54.752082</td>\n",
              "      <td>41.072046</td>\n",
              "      <td>...</td>\n",
              "      <td>0.371003</td>\n",
              "      <td>0.412335</td>\n",
              "      <td>0.030035</td>\n",
              "      <td>0.036777</td>\n",
              "      <td>0.306227</td>\n",
              "      <td>0.487112</td>\n",
              "      <td>0.409201</td>\n",
              "      <td>0.437950</td>\n",
              "      <td>0.182030</td>\n",
              "      <td>0.030035</td>\n",
              "    </tr>\n",
              "    <tr>\n",
              "      <th>min</th>\n",
              "      <td>1893.000000</td>\n",
              "      <td>1730.000000</td>\n",
              "      <td>0.000000</td>\n",
              "      <td>0.000000</td>\n",
              "      <td>0.000000</td>\n",
              "      <td>0.000000</td>\n",
              "      <td>0.000000</td>\n",
              "      <td>0.000000</td>\n",
              "      <td>0.000000</td>\n",
              "      <td>0.000000</td>\n",
              "      <td>...</td>\n",
              "      <td>0.000000</td>\n",
              "      <td>0.000000</td>\n",
              "      <td>0.000000</td>\n",
              "      <td>0.000000</td>\n",
              "      <td>0.000000</td>\n",
              "      <td>0.000000</td>\n",
              "      <td>0.000000</td>\n",
              "      <td>0.000000</td>\n",
              "      <td>0.000000</td>\n",
              "      <td>0.000000</td>\n",
              "    </tr>\n",
              "    <tr>\n",
              "      <th>25%</th>\n",
              "      <td>1959.000000</td>\n",
              "      <td>35303.000000</td>\n",
              "      <td>0.000000</td>\n",
              "      <td>0.000000</td>\n",
              "      <td>24.000000</td>\n",
              "      <td>24.000000</td>\n",
              "      <td>2.000000</td>\n",
              "      <td>16.000000</td>\n",
              "      <td>3.000000</td>\n",
              "      <td>1.000000</td>\n",
              "      <td>...</td>\n",
              "      <td>0.000000</td>\n",
              "      <td>0.000000</td>\n",
              "      <td>0.000000</td>\n",
              "      <td>0.000000</td>\n",
              "      <td>0.000000</td>\n",
              "      <td>0.000000</td>\n",
              "      <td>0.000000</td>\n",
              "      <td>0.000000</td>\n",
              "      <td>0.000000</td>\n",
              "      <td>0.000000</td>\n",
              "    </tr>\n",
              "    <tr>\n",
              "      <th>50%</th>\n",
              "      <td>1970.000000</td>\n",
              "      <td>51381.500000</td>\n",
              "      <td>0.000000</td>\n",
              "      <td>0.000000</td>\n",
              "      <td>49.000000</td>\n",
              "      <td>174.500000</td>\n",
              "      <td>8.000000</td>\n",
              "      <td>68.000000</td>\n",
              "      <td>12.000000</td>\n",
              "      <td>8.000000</td>\n",
              "      <td>...</td>\n",
              "      <td>0.000000</td>\n",
              "      <td>0.000000</td>\n",
              "      <td>0.000000</td>\n",
              "      <td>0.000000</td>\n",
              "      <td>0.000000</td>\n",
              "      <td>0.000000</td>\n",
              "      <td>0.000000</td>\n",
              "      <td>0.000000</td>\n",
              "      <td>0.000000</td>\n",
              "      <td>0.000000</td>\n",
              "    </tr>\n",
              "    <tr>\n",
              "      <th>75%</th>\n",
              "      <td>1977.000000</td>\n",
              "      <td>68522.000000</td>\n",
              "      <td>1.000000</td>\n",
              "      <td>1.000000</td>\n",
              "      <td>74.000000</td>\n",
              "      <td>505.000000</td>\n",
              "      <td>33.000000</td>\n",
              "      <td>232.250000</td>\n",
              "      <td>50.000000</td>\n",
              "      <td>33.000000</td>\n",
              "      <td>...</td>\n",
              "      <td>0.000000</td>\n",
              "      <td>0.000000</td>\n",
              "      <td>0.000000</td>\n",
              "      <td>0.000000</td>\n",
              "      <td>0.000000</td>\n",
              "      <td>1.000000</td>\n",
              "      <td>0.000000</td>\n",
              "      <td>1.000000</td>\n",
              "      <td>0.000000</td>\n",
              "      <td>0.000000</td>\n",
              "    </tr>\n",
              "    <tr>\n",
              "      <th>max</th>\n",
              "      <td>1996.000000</td>\n",
              "      <td>666666.000000</td>\n",
              "      <td>2.000000</td>\n",
              "      <td>2.000000</td>\n",
              "      <td>99.000000</td>\n",
              "      <td>1493.000000</td>\n",
              "      <td>199.000000</td>\n",
              "      <td>1725.000000</td>\n",
              "      <td>259.000000</td>\n",
              "      <td>262.000000</td>\n",
              "      <td>...</td>\n",
              "      <td>1.000000</td>\n",
              "      <td>1.000000</td>\n",
              "      <td>1.000000</td>\n",
              "      <td>1.000000</td>\n",
              "      <td>1.000000</td>\n",
              "      <td>1.000000</td>\n",
              "      <td>1.000000</td>\n",
              "      <td>1.000000</td>\n",
              "      <td>1.000000</td>\n",
              "      <td>1.000000</td>\n",
              "    </tr>\n",
              "  </tbody>\n",
              "</table>\n",
              "<p>8 rows × 39 columns</p>\n",
              "</div>\n",
              "      <button class=\"colab-df-convert\" onclick=\"convertToInteractive('df-f5a73ffd-e230-447d-b15f-3c2669cb8c52')\"\n",
              "              title=\"Convert this dataframe to an interactive table.\"\n",
              "              style=\"display:none;\">\n",
              "        \n",
              "  <svg xmlns=\"http://www.w3.org/2000/svg\" height=\"24px\"viewBox=\"0 0 24 24\"\n",
              "       width=\"24px\">\n",
              "    <path d=\"M0 0h24v24H0V0z\" fill=\"none\"/>\n",
              "    <path d=\"M18.56 5.44l.94 2.06.94-2.06 2.06-.94-2.06-.94-.94-2.06-.94 2.06-2.06.94zm-11 1L8.5 8.5l.94-2.06 2.06-.94-2.06-.94L8.5 2.5l-.94 2.06-2.06.94zm10 10l.94 2.06.94-2.06 2.06-.94-2.06-.94-.94-2.06-.94 2.06-2.06.94z\"/><path d=\"M17.41 7.96l-1.37-1.37c-.4-.4-.92-.59-1.43-.59-.52 0-1.04.2-1.43.59L10.3 9.45l-7.72 7.72c-.78.78-.78 2.05 0 2.83L4 21.41c.39.39.9.59 1.41.59.51 0 1.02-.2 1.41-.59l7.78-7.78 2.81-2.81c.8-.78.8-2.07 0-2.86zM5.41 20L4 18.59l7.72-7.72 1.47 1.35L5.41 20z\"/>\n",
              "  </svg>\n",
              "      </button>\n",
              "      \n",
              "  <style>\n",
              "    .colab-df-container {\n",
              "      display:flex;\n",
              "      flex-wrap:wrap;\n",
              "      gap: 12px;\n",
              "    }\n",
              "\n",
              "    .colab-df-convert {\n",
              "      background-color: #E8F0FE;\n",
              "      border: none;\n",
              "      border-radius: 50%;\n",
              "      cursor: pointer;\n",
              "      display: none;\n",
              "      fill: #1967D2;\n",
              "      height: 32px;\n",
              "      padding: 0 0 0 0;\n",
              "      width: 32px;\n",
              "    }\n",
              "\n",
              "    .colab-df-convert:hover {\n",
              "      background-color: #E2EBFA;\n",
              "      box-shadow: 0px 1px 2px rgba(60, 64, 67, 0.3), 0px 1px 3px 1px rgba(60, 64, 67, 0.15);\n",
              "      fill: #174EA6;\n",
              "    }\n",
              "\n",
              "    [theme=dark] .colab-df-convert {\n",
              "      background-color: #3B4455;\n",
              "      fill: #D2E3FC;\n",
              "    }\n",
              "\n",
              "    [theme=dark] .colab-df-convert:hover {\n",
              "      background-color: #434B5C;\n",
              "      box-shadow: 0px 1px 3px 1px rgba(0, 0, 0, 0.15);\n",
              "      filter: drop-shadow(0px 1px 2px rgba(0, 0, 0, 0.3));\n",
              "      fill: #FFFFFF;\n",
              "    }\n",
              "  </style>\n",
              "\n",
              "      <script>\n",
              "        const buttonEl =\n",
              "          document.querySelector('#df-f5a73ffd-e230-447d-b15f-3c2669cb8c52 button.colab-df-convert');\n",
              "        buttonEl.style.display =\n",
              "          google.colab.kernel.accessAllowed ? 'block' : 'none';\n",
              "\n",
              "        async function convertToInteractive(key) {\n",
              "          const element = document.querySelector('#df-f5a73ffd-e230-447d-b15f-3c2669cb8c52');\n",
              "          const dataTable =\n",
              "            await google.colab.kernel.invokeFunction('convertToInteractive',\n",
              "                                                     [key], {});\n",
              "          if (!dataTable) return;\n",
              "\n",
              "          const docLinkHtml = 'Like what you see? Visit the ' +\n",
              "            '<a target=\"_blank\" href=https://colab.research.google.com/notebooks/data_table.ipynb>data table notebook</a>'\n",
              "            + ' to learn more about interactive tables.';\n",
              "          element.innerHTML = '';\n",
              "          dataTable['output_type'] = 'display_data';\n",
              "          await google.colab.output.renderOutput(dataTable, element);\n",
              "          const docLink = document.createElement('div');\n",
              "          docLink.innerHTML = docLinkHtml;\n",
              "          element.appendChild(docLink);\n",
              "        }\n",
              "      </script>\n",
              "    </div>\n",
              "  </div>\n",
              "  "
            ]
          },
          "metadata": {},
          "execution_count": 22
        }
      ]
    },
    {
      "cell_type": "markdown",
      "source": [
        "## Customer segmentation"
      ],
      "metadata": {
        "id": "iN9_yp2f9-mP"
      }
    },
    {
      "cell_type": "markdown",
      "source": [
        "## From the .describe we find that for the numerical variables our customers had a mean annual income of 52247 with the minimum being 1730 and a max of 666666 Being the target all the poeple that had an Income between 35303 and 68522 , about the amount spent per category the information shows the mean spent for wines is of 303.93 with a spend target between 23.75 and 504.25  for fruits of 26.30 with with a spend target between 1.0 and 33.00 for meat products 166.95 with a spend target between 16.00 and 232.00 for FishProducts 37.52 with a spend target between 3.00 and 50.00 and sweet products 27.06. with a spend target between 1.00 and 33.00\n",
        "\n",
        "##With this table we also know that the mean time of recency is of 49 days also the customers that had more than 1 son or more are  located in the 4th quartile finally the mean age of our customers is of 53.19 years having a minimum age of 11.98 and a very unusual max of 129 years however our target range oscillates between the 26 and 63 years"
      ],
      "metadata": {
        "id": "HJiuqOAxlQFC"
      }
    },
    {
      "cell_type": "markdown",
      "source": [
        "## Qualitative variables"
      ],
      "metadata": {
        "id": "1FTi9-6IrgbP"
      }
    },
    {
      "cell_type": "markdown",
      "source": [
        "\n",
        "## After the .describe that provide us information about the numerical variables, we will take a look at the qualitative ones for these case, the educational level the marital status, and the date the customer enrolled with the app we are going to focus more on the socio demographical that is the educational level and the marital status."
      ],
      "metadata": {
        "id": "SUX_lGY_T4O1"
      }
    },
    {
      "cell_type": "code",
      "source": [
        "dfpe = df['Education'].value_counts(normalize=True) * 100 \n",
        "dfpe.plot.bar(fontsize= 15, width=0.5,color=['green','yellow','red'],title='Cx Education level',legend='reverse' )"
      ],
      "metadata": {
        "colab": {
          "base_uri": "https://localhost:8080/",
          "height": 373
        },
        "id": "yhKOyZXx2qJs",
        "outputId": "e9ec86dd-e472-456f-b3d4-4bc9de644174"
      },
      "execution_count": 23,
      "outputs": [
        {
          "output_type": "execute_result",
          "data": {
            "text/plain": [
              "<matplotlib.axes._subplots.AxesSubplot at 0x7fcfa4dd6cd0>"
            ]
          },
          "metadata": {},
          "execution_count": 23
        },
        {
          "output_type": "display_data",
          "data": {
            "text/plain": [
              "<Figure size 432x288 with 1 Axes>"
            ],
            "image/png": "[encoded data removed]"
          },
          "metadata": {
            "needs_background": "light"
          }
        }
      ]
    },
    {
      "cell_type": "code",
      "source": [
        "df['Education'].value_counts(normalize=True) * 100 "
      ],
      "metadata": {
        "colab": {
          "base_uri": "https://localhost:8080/"
        },
        "id": "BBkD4I-rgiD5",
        "outputId": "abe1e201-f489-4c5f-82a6-a861564ade65"
      },
      "execution_count": 24,
      "outputs": [
        {
          "output_type": "execute_result",
          "data": {
            "text/plain": [
              "Graduation    50.312500\n",
              "PhD           21.696429\n",
              "Master        16.517857\n",
              "2n Cycle       9.062500\n",
              "Basic          2.410714\n",
              "Name: Education, dtype: float64"
            ]
          },
          "metadata": {},
          "execution_count": 24
        }
      ]
    },
    {
      "cell_type": "markdown",
      "source": [
        "## So as we can see the educational level of our target customers is mostly people that had already graduated from college and above having the percentage of graduates in 50.312% followed by the Ph.D.'s with 21.69% and in the third place people with a Master with 9.06% and the remaining 2 categories that are 2n Cycle and basic with a combined percentage of 11.47%"
      ],
      "metadata": {
        "id": "7uyjK1O_Z5gX"
      }
    },
    {
      "cell_type": "code",
      "source": [
        "dfpms = df['Marital_Status'].value_counts(normalize=True) * 100 \n",
        "dfpms.plot.bar(fontsize= 15, width=0.5,color=['green','yellow','red'],title='Cx Marital_Status',legend='reverse' )"
      ],
      "metadata": {
        "colab": {
          "base_uri": "https://localhost:8080/",
          "height": 355
        },
        "id": "A4b2IERKiT8s",
        "outputId": "99ec69ef-cd1e-43bc-a348-7f3a4bcc2418"
      },
      "execution_count": 25,
      "outputs": [
        {
          "output_type": "execute_result",
          "data": {
            "text/plain": [
              "<matplotlib.axes._subplots.AxesSubplot at 0x7fcfa2f0cf50>"
            ]
          },
          "metadata": {},
          "execution_count": 25
        },
        {
          "output_type": "display_data",
          "data": {
            "text/plain": [
              "<Figure size 432x288 with 1 Axes>"
            ],
            "image/png": "[encoded data removed]"
          },
          "metadata": {
            "needs_background": "light"
          }
        }
      ]
    },
    {
      "cell_type": "code",
      "source": [
        "df['Marital_Status'].value_counts(normalize=True) * 100"
      ],
      "metadata": {
        "colab": {
          "base_uri": "https://localhost:8080/"
        },
        "id": "WO13XxbdG5W7",
        "outputId": "5a499b5f-8eca-4ec8-d533-6fc3d1c8f96f"
      },
      "execution_count": 26,
      "outputs": [
        {
          "output_type": "execute_result",
          "data": {
            "text/plain": [
              "Married     38.571429\n",
              "Together    25.892857\n",
              "Single      21.428571\n",
              "Divorced    10.357143\n",
              "Widow        3.437500\n",
              "Alone        0.133929\n",
              "Absurd       0.089286\n",
              "YOLO         0.089286\n",
              "Name: Marital_Status, dtype: float64"
            ]
          },
          "metadata": {},
          "execution_count": 26
        }
      ]
    },
    {
      "cell_type": "markdown",
      "source": [
        "## Regards the marital status of our customers the principal target it is mainly composed by accompanied(Married, Together) people that represent the 64.46% of the customers and second followed by our secondary target of 31.45% of the single and divorced people these groups of people sum the 95.91% of our customers leaving the remaining 5% for the other marital statutes "
      ],
      "metadata": {
        "id": "G2hA_6ZEudRI"
      }
    },
    {
      "cell_type": "markdown",
      "source": [
        "## Clasification model construcction\n",
        "\n",
        "\n"
      ],
      "metadata": {
        "id": "r4k8zAM9GCY5"
      }
    },
    {
      "cell_type": "markdown",
      "source": [
        "## Now that we had our dataset for the model we assign the X and Y for the train test\n",
        "\n",
        "\n",
        "\n"
      ],
      "metadata": {
        "id": "NQN1TbZSMgdD"
      }
    },
    {
      "cell_type": "code",
      "source": [
        "X =df2[[\"Recency\",\"MntWines\",\"MntFruits\",\"MntMeatProducts\",\"MntFishProducts\",\"MntSweetProducts\",\"MntGoldProds\",\"NumDealsPurchases\",\"NumWebPurchases\",\"NumCatalogPurchases\",\n",
        "        \"NumStorePurchases\",\"NumWebVisitsMonth\",\"AcceptedCmp3\",\"AcceptedCmp4\",\"AcceptedCmp5\",\"AcceptedCmp1\",\"AcceptedCmp2\",\"Age\",\"Income\",\"Kidhome\",\"Teenhome\",\"Education_2n Cycle\",\"Education_Basic\",\n",
        "        \"Education_Graduation\",\"Education_Master\",\"Education_PhD\",\"Marital_Status_Absurd\",\"Marital_Status_Alone\",\"Marital_Status_Divorced\",\"Marital_Status_Married\",\"Marital_Status_Single\",\"Marital_Status_Together\",\n",
        "        \"Marital_Status_Widow\",\"Marital_Status_YOLO\"]]\n",
        "Y = df2[\"Response\"]\n"
      ],
      "metadata": {
        "id": "0lYDMM6oRE0l"
      },
      "execution_count": 27,
      "outputs": []
    },
    {
      "cell_type": "code",
      "source": [
        "X_Train, X_Test, Y_Train, Y_Test = train_test_split(X, Y, test_size = 0.25, random_state=0)"
      ],
      "metadata": {
        "id": "1MhA7UXMRFNC"
      },
      "execution_count": 28,
      "outputs": []
    },
    {
      "cell_type": "markdown",
      "source": [
        "## We apply an standard scaler before training the model"
      ],
      "metadata": {
        "id": "2L_S6FgoNkG6"
      }
    },
    {
      "cell_type": "code",
      "source": [
        "sc_X = StandardScaler()\n",
        "X_Train = sc_X.fit_transform(X_Train)\n",
        "X_Test = sc_X.transform(X_Test)\n"
      ],
      "metadata": {
        "id": "h1nf-KoW7mzw"
      },
      "execution_count": 29,
      "outputs": []
    },
    {
      "cell_type": "markdown",
      "source": [
        "##Now, we are going to train de SVC(support vector classifier) "
      ],
      "metadata": {
        "id": "KIXwUAZ7OJ3S"
      }
    },
    {
      "cell_type": "code",
      "source": [
        "\n",
        "classifier = SVC(kernel='linear')\n",
        "classifier.fit(X_Train, Y_Train)\n"
      ],
      "metadata": {
        "colab": {
          "base_uri": "https://localhost:8080/"
        },
        "id": "bFJLRkST6UrN",
        "outputId": "ab909367-2455-4cdd-a921-2a412f7a93b4"
      },
      "execution_count": 30,
      "outputs": [
        {
          "output_type": "execute_result",
          "data": {
            "text/plain": [
              "SVC(kernel='linear')"
            ]
          },
          "metadata": {},
          "execution_count": 30
        }
      ]
    },
    {
      "cell_type": "markdown",
      "source": [
        "## We now generate the prediction with the test data"
      ],
      "metadata": {
        "id": "9g46hH3-dlaf"
      }
    },
    {
      "cell_type": "code",
      "source": [
        "Y_Pred = classifier.predict(X_Test)\n"
      ],
      "metadata": {
        "id": "RqMaqp7C6U70"
      },
      "execution_count": 31,
      "outputs": []
    },
    {
      "cell_type": "code",
      "source": [
        "cm = confusion_matrix(Y_Test, Y_Pred)\n",
        "\n",
        "fig, ax = plt.subplots(figsize=(12,8))\n",
        "ax.matshow(cm)\n",
        "plt.title('Matriz de Confusión', fontsize=20)\n",
        "plt.ylabel('Etiqueta Verdadera', fontsize=15)\n",
        "plt.xlabel('Etiqueta Predicha', fontsize=15)\n",
        "for (i, j), z in np.ndenumerate(cm):\n",
        "    ax.text(j, i, '{:0.1f}'.format(z), ha='center', va='center')\n"
      ],
      "metadata": {
        "id": "NS4ncxtr6VL7",
        "colab": {
          "base_uri": "https://localhost:8080/",
          "height": 528
        },
        "outputId": "ebc1f572-ea0d-48f4-8f6c-c351da813ac1"
      },
      "execution_count": 38,
      "outputs": [
        {
          "output_type": "display_data",
          "data": {
            "text/plain": [
              "<Figure size 864x576 with 1 Axes>"
            ],
            "image/png": "[encoded data removed]"
          },
          "metadata": {
            "needs_background": "light"
          }
        }
      ]
    },
    {
      "cell_type": "markdown",
      "source": [
        "## After training and testing our classifier the performance of it, is shown on the classification report next, the formula for recall and precision are defined as \n",
        "\n",
        "\\begin{align}\n",
        "        Precision  = \\frac{tp \\,}{tp+fp}\n",
        "    \\end{align}\n",
        "\n",
        "\\begin{align}\n",
        "           Recall  =  \\frac{tp \\,}{tp+fn}\n",
        "    \\end{align}"
      ],
      "metadata": {
        "id": "8TNkzx7JVIpc"
      }
    },
    {
      "cell_type": "code",
      "source": [
        "print(classification_report(Y_Test, Y_Pred))"
      ],
      "metadata": {
        "id": "s3XiCxjg6VZ0",
        "colab": {
          "base_uri": "https://localhost:8080/"
        },
        "outputId": "9a72dfdf-c970-497f-a3a7-f0fe4b54d340"
      },
      "execution_count": 33,
      "outputs": [
        {
          "output_type": "stream",
          "name": "stdout",
          "text": [
            "              precision    recall  f1-score   support\n",
            "\n",
            "           0       0.89      0.98      0.93       467\n",
            "           1       0.72      0.32      0.44        87\n",
            "\n",
            "    accuracy                           0.87       554\n",
            "   macro avg       0.80      0.65      0.69       554\n",
            "weighted avg       0.86      0.87      0.85       554\n",
            "\n"
          ]
        }
      ]
    },
    {
      "cell_type": "markdown",
      "source": [
        "## This classifier will allow the company to predict the customers that aren't going to take the offer of the campaign with 89% precision and the ones that are going to with a presicion of 72%, this will help to focus the marketing budget on the customers that are likely to accept the offer instead of spraying resources and waiting for the outcome to be the expected "
      ],
      "metadata": {
        "id": "XUOo5_EhVJCI"
      }
    },
    {
      "cell_type": "markdown",
      "source": [
        ""
      ],
      "metadata": {
        "id": "U5LJOZ93VJXd"
      }
    }
  ]
}